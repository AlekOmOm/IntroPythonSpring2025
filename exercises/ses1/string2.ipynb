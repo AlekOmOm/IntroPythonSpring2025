{
 "cells": [
  {
   "attachments": {},
   "cell_type": "markdown",
   "metadata": {},
   "source": [
    "# Additional basic string exercises\n",
    "\n",
    "## D. verbing\n",
    "Given a string, if its length is at least 3,\n",
    "add 'ing' to its end.\n",
    "Unless it already ends in 'ing', in which case\n",
    "add 'ly' instead.\n",
    "If the string length is less than 3, leave it unchanged.\n",
    "Return the resulting string."
   ]
  },
  {
   "cell_type": "code",
   "execution_count": 61,
   "id": "63f5054b",
   "metadata": {},
   "outputs": [
    {
     "name": "stdout",
     "output_type": "stream",
     "text": [
      "springly\n",
      "springly\n",
      "summering\n",
      "falling\n",
      "wintering\n",
      "swimingly\n"
     ]
    }
   ],
   "source": [
    "original_word = 'spring'\n",
    "\n",
    "original_words = ['spring', 'summer', 'fall', 'winter', 'swiming']\n",
    "\n",
    "def verbing(s):\n",
    "  if len(s) < 3:\n",
    "    return s\n",
    "\n",
    "  if s.endswith('ing'):\n",
    "    s = s.__add__('ly')\n",
    "    return s\n",
    "  \n",
    "  elif s[2:] == 'ly':\n",
    "    s = s[:(len(s)-2)].__add__('ling')\n",
    "    return s\n",
    "\n",
    "  \n",
    "  return  s.__add__('ing')\n",
    "\n",
    "# test\n",
    "print(verbing(original_word))\n",
    "for current_word in original_words:\n",
    "  print(verbing(current_word))\n"
   ]
  },
  {
   "attachments": {},
   "cell_type": "markdown",
   "id": "743fcc33",
   "metadata": {},
   "source": [
    "## E. not_bad\n",
    "- Given a string, find the first appearance of the\n",
    "substring 'not' and 'bad'. \n",
    "- If the 'bad' follows\n",
    "the 'not', replace the whole 'not'...'bad' substring\n",
    "with 'good'.\n",
    "- Return the resulting string.\n",
    "- So 'This dinner is not that bad!' yields:\n",
    "This dinner is good!"
   ]
  },
  {
   "cell_type": "code",
   "execution_count": 62,
   "id": "e6a16b71",
   "metadata": {},
   "outputs": [
    {
     "name": "stdout",
     "output_type": "stream",
     "text": [
      "This movie is good, it is about a butler who is a spy, and it is not boring. It is not bad at all.\n"
     ]
    }
   ],
   "source": [
    "original_sentence = 'This movie is not so bad, it is about a butler who is a spy, and it is not boring. It is not bad at all.'\n",
    "\n",
    "\n",
    "def not_bad(s):\n",
    "  # Find first occurrence of 'not' and 'bad'\n",
    "  not_index = s.lower().find('not')\n",
    "  bad_index = s.lower().find('bad')\n",
    "\n",
    "  if not_index != -1 and bad_index != -1 and not_index < bad_index:\n",
    "    return  s[:not_index] + 'good' + s[bad_index + 3:]\n",
    "    \n",
    "\n",
    "\n",
    "print(not_bad(original_sentence))"
   ]
  },
  {
   "attachments": {},
   "cell_type": "markdown",
   "id": "5c3130cc",
   "metadata": {},
   "source": [
    "## F. front_back\n",
    "Consider dividing a string into two halves.\n",
    "If the length is even, the front and back halves are the same length.\n",
    "If the length is odd, we'll say that the extra char goes in the front half.\n",
    "e.g. 'abcde', the front half is 'abc', the back half 'de'.\n",
    "Given 2 strings, a and b, return a string of the form\n",
    "a-front + b-front + a-back + b-back"
   ]
  },
  {
   "cell_type": "code",
   "execution_count": 63,
   "id": "859f4f88",
   "metadata": {},
   "outputs": [
    {
     "name": "stdout",
     "output_type": "stream",
     "text": [
      "abxcdy\n",
      "abcxydez\n",
      "KitDontenut\n"
     ]
    }
   ],
   "source": [
    "def front_back(a, b):\n",
    "    \n",
    "    def split_string(s):\n",
    "        # calculate midpoint - for odd lengths, integer division puts extra char in front\n",
    "        mid = (len(s) + 1) // 2\n",
    "        return s[:mid], s[mid:]\n",
    "    \n",
    "    # split both strings\n",
    "    a_front, a_back = split_string(a)\n",
    "    b_front, b_back = split_string(b)\n",
    "    \n",
    "    # combine in requested order\n",
    "    return a_front + b_front + a_back + b_back\n",
    "\n",
    "# test cases\n",
    "print(front_back('abcd', 'xy'))     # -> 'abxcdy'\n",
    "print(front_back('abcde', 'xyz'))   # -> 'abcxydez'\n",
    "print(front_back('Kitten', 'Donut')) # -> 'KitDonuten'"
   ]
  },
  {
   "cell_type": "code",
   "execution_count": 67,
   "id": "ee303a83",
   "metadata": {},
   "outputs": [],
   "source": [
    "# THIS CODE CELL SHOUL NOT BE CHANGED OR TOUCHED (ONLY RUN)\n",
    "\n",
    "def test(got, expected):\n",
    "  if got == expected:\n",
    "    prefix = ' OK '\n",
    "  else:\n",
    "    prefix = '  X '\n",
    "  print (prefix + ' got: ' + got + ' expected: ' + expected)"
   ]
  },
  {
   "cell_type": "code",
   "execution_count": 69,
   "id": "71448dff",
   "metadata": {},
   "outputs": [],
   "source": [
    "# THIS CODE CELL SHOUL NOT BE CHANGED OR TOUCHED (ONLY RUN)\n",
    "\n",
    "def main():\n",
    "  print ('verbing')\n",
    "  test(verbing('hail'), 'hailing')\n",
    "  test(verbing('swiming'), 'swimingly')\n",
    "  test(verbing('do'), 'do')\n",
    "\n",
    "  print()\n",
    "  print ('not_bad')\n",
    "  test(not_bad('This movie is not so bad'), 'This movie is good')\n",
    "  test(not_bad('This dinner is not that bad!'), 'This dinner is good!')\n",
    "  test(not_bad('This tea is not hot'), 'This tea is not hot')\n",
    "  test(not_bad(\"It's bad yet not\"), \"It's bad yet not\")\n",
    "\n",
    "  print()\n",
    "  print ('front_back')\n",
    "  test(front_back('abcd', 'xy'), 'abxcdy')\n",
    "  test(front_back('abcde', 'xyz'), 'abcxydez')\n",
    "  test(front_back('Kitten', 'Donut'), 'KitDontenut')"
   ]
  },
  {
   "cell_type": "code",
   "execution_count": 70,
   "id": "b71c55f9",
   "metadata": {},
   "outputs": [
    {
     "name": "stdout",
     "output_type": "stream",
     "text": [
      "verbing\n",
      " OK  got: hailing expected: hailing\n",
      " OK  got: swimingly expected: swimingly\n",
      " OK  got: do expected: do\n",
      "\n",
      "not_bad\n",
      " OK  got: This movie is good expected: This movie is good\n",
      " OK  got: This dinner is good! expected: This dinner is good!\n"
     ]
    },
    {
     "ename": "TypeError",
     "evalue": "can only concatenate str (not \"NoneType\") to str",
     "output_type": "error",
     "traceback": [
      "\u001b[1;31m---------------------------------------------------------------------------\u001b[0m",
      "\u001b[1;31mTypeError\u001b[0m                                 Traceback (most recent call last)",
      "Cell \u001b[1;32mIn[70], line 2\u001b[0m\n\u001b[0;32m      1\u001b[0m \u001b[38;5;66;03m# THIS CODE CELL SHOUL NOT BE CHANGED OR TOUCHED (ONLY RUN)\u001b[39;00m\n\u001b[1;32m----> 2\u001b[0m \u001b[43mmain\u001b[49m\u001b[43m(\u001b[49m\u001b[43m)\u001b[49m\n",
      "Cell \u001b[1;32mIn[69], line 13\u001b[0m, in \u001b[0;36mmain\u001b[1;34m()\u001b[0m\n\u001b[0;32m     11\u001b[0m test(not_bad(\u001b[38;5;124m'\u001b[39m\u001b[38;5;124mThis movie is not so bad\u001b[39m\u001b[38;5;124m'\u001b[39m), \u001b[38;5;124m'\u001b[39m\u001b[38;5;124mThis movie is good\u001b[39m\u001b[38;5;124m'\u001b[39m)\n\u001b[0;32m     12\u001b[0m test(not_bad(\u001b[38;5;124m'\u001b[39m\u001b[38;5;124mThis dinner is not that bad!\u001b[39m\u001b[38;5;124m'\u001b[39m), \u001b[38;5;124m'\u001b[39m\u001b[38;5;124mThis dinner is good!\u001b[39m\u001b[38;5;124m'\u001b[39m)\n\u001b[1;32m---> 13\u001b[0m \u001b[43mtest\u001b[49m\u001b[43m(\u001b[49m\u001b[43mnot_bad\u001b[49m\u001b[43m(\u001b[49m\u001b[38;5;124;43m'\u001b[39;49m\u001b[38;5;124;43mThis tea is not hot\u001b[39;49m\u001b[38;5;124;43m'\u001b[39;49m\u001b[43m)\u001b[49m\u001b[43m,\u001b[49m\u001b[43m \u001b[49m\u001b[38;5;124;43m'\u001b[39;49m\u001b[38;5;124;43mThis tea is not hot\u001b[39;49m\u001b[38;5;124;43m'\u001b[39;49m\u001b[43m)\u001b[49m\n\u001b[0;32m     14\u001b[0m test(not_bad(\u001b[38;5;124m\"\u001b[39m\u001b[38;5;124mIt\u001b[39m\u001b[38;5;124m'\u001b[39m\u001b[38;5;124ms bad yet not\u001b[39m\u001b[38;5;124m\"\u001b[39m), \u001b[38;5;124m\"\u001b[39m\u001b[38;5;124mIt\u001b[39m\u001b[38;5;124m'\u001b[39m\u001b[38;5;124ms bad yet not\u001b[39m\u001b[38;5;124m\"\u001b[39m)\n\u001b[0;32m     16\u001b[0m \u001b[38;5;28mprint\u001b[39m()\n",
      "Cell \u001b[1;32mIn[67], line 8\u001b[0m, in \u001b[0;36mtest\u001b[1;34m(got, expected)\u001b[0m\n\u001b[0;32m      6\u001b[0m \u001b[38;5;28;01melse\u001b[39;00m:\n\u001b[0;32m      7\u001b[0m   prefix \u001b[38;5;241m=\u001b[39m \u001b[38;5;124m'\u001b[39m\u001b[38;5;124m  X \u001b[39m\u001b[38;5;124m'\u001b[39m\n\u001b[1;32m----> 8\u001b[0m \u001b[38;5;28mprint\u001b[39m (\u001b[43mprefix\u001b[49m\u001b[43m \u001b[49m\u001b[38;5;241;43m+\u001b[39;49m\u001b[43m \u001b[49m\u001b[38;5;124;43m'\u001b[39;49m\u001b[38;5;124;43m got: \u001b[39;49m\u001b[38;5;124;43m'\u001b[39;49m\u001b[43m \u001b[49m\u001b[38;5;241;43m+\u001b[39;49m\u001b[43m \u001b[49m\u001b[43mgot\u001b[49m \u001b[38;5;241m+\u001b[39m \u001b[38;5;124m'\u001b[39m\u001b[38;5;124m expected: \u001b[39m\u001b[38;5;124m'\u001b[39m \u001b[38;5;241m+\u001b[39m expected)\n",
      "\u001b[1;31mTypeError\u001b[0m: can only concatenate str (not \"NoneType\") to str"
     ]
    }
   ],
   "source": [
    "# THIS CODE CELL SHOUL NOT BE CHANGED OR TOUCHED (ONLY RUN)\n",
    "main()"
   ]
  }
 ],
 "metadata": {
  "kernelspec": {
   "display_name": ".venv",
   "language": "python",
   "name": "python3"
  },
  "language_info": {
   "codemirror_mode": {
    "name": "ipython",
    "version": 3
   },
   "file_extension": ".py",
   "mimetype": "text/x-python",
   "name": "python",
   "nbconvert_exporter": "python",
   "pygments_lexer": "ipython3",
   "version": "3.13.1"
  }
 },
 "nbformat": 4,
 "nbformat_minor": 5
}
