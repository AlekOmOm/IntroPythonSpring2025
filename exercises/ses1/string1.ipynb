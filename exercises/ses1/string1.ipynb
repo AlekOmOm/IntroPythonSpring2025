{
 "cells": [
  {
   "cell_type": "markdown",
   "metadata": {},
   "source": [
    "# Basic string exercises\n",
    "Fill in the code for the functions below. main() is already set up to call the functions with a few different inputs, printing 'OK' when each function is correct.    \n",
    "\n",
    "The starter code for each function includes a 'return' which is just a placeholder for your code.    \n",
    "\n",
    "It's ok if you do not complete all the functions, and there are some additional functions to try in string2.py.    "
   ]
  },
  {
   "cell_type": "markdown",
   "metadata": {},
   "source": [
    "## A. donuts\n",
    "Given an int count of a number of donuts, return a string of the form ```'Number of donuts: <count>'```, where ```<count>``` is the number passed in. However, if the count is 10 or more, then use the word ```'many'``` instead of the actual count.     \n",
    "\n",
    "So ```donuts(5)``` returns ```'Number of donuts: 5'``` and ```donuts(23)``` returns ```'Number of donuts: many'```    "
   ]
  },
  {
   "cell_type": "code",
   "execution_count": 60,
   "metadata": {},
   "outputs": [
    {
     "name": "stderr",
     "output_type": "stream",
     "text": [
      ".\n",
      "----------------------------------------------------------------------\n",
      "Ran 1 test in 0.002s\n",
      "\n",
      "OK\n"
     ]
    },
    {
     "name": "stdout",
     "output_type": "stream",
     "text": [
      "Number of donuts: 5\n",
      "Number of donuts: many\n",
      "Number of donuts: many\n"
     ]
    }
   ],
   "source": [
    "def donuts(count):\n",
    "    if count >= 10:\n",
    "        return 'Number of donuts: many'\n",
    "    return 'Number of donuts: ' + str(count)\n",
    "\n",
    "# test\n",
    "print(donuts(5))\n",
    "print(donuts(10))\n",
    "print(donuts(23))\n",
    "\n",
    "## unit test\n",
    "\n",
    "import unittest\n",
    "\n",
    "class Test_Donuts(unittest.TestCase):\n",
    "    def test_donuts(self):\n",
    "         # Test case 1: count < 10\n",
    "        self.assertEqual(donuts(5), 'Number of donuts: 5')\n",
    "        \n",
    "        # Test case 2: count == 10 (edge case)\n",
    "        self.assertEqual(donuts(10), 'Number of donuts: many')\n",
    "        \n",
    "        \n",
    "        # Test case 3: count > 10\n",
    "        self.assertEqual(donuts(11), 'Number of donuts: many')\n",
    "        \n",
    "        # Test case 4: count == 0 (edge case)\n",
    "        self.assertEqual(donuts(0), 'Number of donuts: 0')\n",
    "\n",
    "\n",
    "# Run the tests\n",
    "if __name__ == '__main__':\n",
    "    unittest.TextTestRunner().run(unittest.TestLoader().loadTestsFromTestCase(Test_Donuts))"
   ]
  },
  {
   "cell_type": "markdown",
   "metadata": {},
   "source": [
    "## B. both_ends\n",
    "Given a string s, return a string made of the first 2    \n",
    "and the last 2 chars of the original string,    \n",
    "so 'spring' yields 'spng'. However, if the string length    \n",
    "is less than 2, return instead the empty string.    "
   ]
  },
  {
   "cell_type": "code",
   "execution_count": 61,
   "metadata": {},
   "outputs": [
    {
     "name": "stderr",
     "output_type": "stream",
     "text": [
      "..\n",
      "----------------------------------------------------------------------\n",
      "Ran 2 tests in 0.004s\n",
      "\n",
      "OK\n"
     ]
    },
    {
     "name": "stdout",
     "output_type": "stream",
     "text": [
      "original: spring\n",
      "parsed: spng\n",
      "Test case:  0\n",
      "  spring =>  spng\n",
      "Test case:  1\n",
      "   =>  \n",
      "Test case:  2\n",
      "  a =>  \n",
      "Test case:  3\n",
      "  ab =>  abab\n"
     ]
    }
   ],
   "source": [
    "original_word = 'spring'\n",
    "parsed_word = ''\n",
    "\n",
    "def both_ends(s):\n",
    "    if len(s) < 2:\n",
    "        return ''\n",
    "    \n",
    "    first_two_char = s[:2] # get first two characters, ':nr' means from the beginning\n",
    "    last_two_char = s[-2:] # get last two characters, '-nr:' means from the end\n",
    "    return first_two_char + last_two_char\n",
    "\n",
    "print('original: '+ original_word)\n",
    "print('parsed: '+ both_ends(original_word))\n",
    "\n",
    "\n",
    "# test\n",
    "import unittest\n",
    "\n",
    "class Test_Both_ends(unittest.TestCase):\n",
    "    def test_both_ends(self):\n",
    "          # Test case 1: Normal case\n",
    "        self.assertEqual(both_ends('spring'), 'spng')\n",
    "        \n",
    "        # Test case 2: Empty string\n",
    "        self.assertEqual(both_ends(''), '')\n",
    "        \n",
    "        # Test case 3: String with one character\n",
    "        self.assertEqual(both_ends('a'), '')\n",
    "        \n",
    "        # Test case 4: String with two characters\n",
    "        self.assertEqual(both_ends('ab'), 'abab')\n",
    "\n",
    "    def test_both_ends_with_array_testcases(self):\n",
    "        count = 0\n",
    "        test_cases = [\n",
    "            ('spring', 'spng'),\n",
    "            ('', ''),\n",
    "            ('a', ''),\n",
    "            ('ab', 'abab')\n",
    "        ]\n",
    "\n",
    "        for input_str, expected_output_str in test_cases:\n",
    "            with self.subTest(input_str = input_str): # this is used to identify which test case is failing\n",
    "                print ('Test case: ', count)\n",
    "                print (' ', input_str, '=> ', expected_output_str)\n",
    "                count +=1\n",
    "\n",
    "                self.assertEqual(both_ends(input_str), expected_output_str)\n",
    "\n",
    "\n",
    "# Run the tests\n",
    "if __name__ == '__main__':\n",
    "    suite = unittest.TestLoader().loadTestsFromTestCase(Test_Both_ends)\n",
    "    unittest.TextTestRunner().run(suite)"
   ]
  },
  {
   "cell_type": "markdown",
   "metadata": {},
   "source": [
    "## C. fix_start\n",
    "Given a string s, return a string    \n",
    "where all occurences of its first char have    \n",
    "been changed to '*', except do not change    \n",
    "the first char itself.    \n",
    "e.g. 'babble' yields 'ba**le'    \n",
    "Assume that the string is length 1 or more.    \n",
    "Hint: s.replace(stra, strb) returns a version of string s    # s.replace\n",
    "where all instances of stra have been replaced by strb.    "
   ]
  },
  {
   "cell_type": "code",
   "execution_count": 62,
   "metadata": {},
   "outputs": [
    {
     "name": "stdout",
     "output_type": "stream",
     "text": [
      "ba**le\n"
     ]
    }
   ],
   "source": [
    "original_word = 'babble'\n",
    "\n",
    "def fix_start(s):\n",
    "  first_char = s[:1] # slice from ':' border to :1 first char ('1:' would be first char and end border)\n",
    "  s = s.replace(first_char, '*') # replace all first_char with '*'\n",
    "\n",
    "  return first_char + s[1:]\n",
    "\n",
    "print(fix_start(original_word))"
   ]
  },
  {
   "cell_type": "markdown",
   "metadata": {},
   "source": [
    "## D. MixUp\n",
    "Given strings a and b, return a single string with a and b separated    \n",
    "by a space '\\<a\\> \\<b\\>', except swap the first 2 chars of each string.    \n",
    "e.g.    \n",
    "> 'mix', pod' -> 'pox mid'    \n",
    "> 'dog', 'dinner' -> 'dig donner'       \n",
    " \n",
    "Assume a and b are length 2 or more.    "
   ]
  },
  {
   "cell_type": "code",
   "execution_count": 63,
   "metadata": {},
   "outputs": [
    {
     "name": "stdout",
     "output_type": "stream",
     "text": [
      "first set mix pod\n",
      "  ['pix', 'mod']\n",
      "second set dog dinner\n",
      "  ['dog', 'dinner']\n"
     ]
    }
   ],
   "source": [
    "first_set = ['mix', 'pod']\n",
    "second_set = ['dog', 'dinner']\n",
    "\n",
    "\n",
    "def mix_up(a, b):\n",
    "    first_char_a = a[:1]\n",
    "    first_char_b = b[:1]\n",
    "    b = b.replace(first_char_b, first_char_a)\n",
    "    a = a.replace(first_char_a, first_char_b)\n",
    "    return [a,b]\n",
    "\n",
    "print('first set', first_set[0], first_set[1])\n",
    "print(' ',mix_up(first_set[0], first_set[1]))\n",
    "\n",
    "print('second set', second_set[0], second_set[1])\n",
    "print(' ',mix_up(second_set[0], second_set[1]))"
   ]
  },
  {
   "cell_type": "code",
   "execution_count": 64,
   "metadata": {},
   "outputs": [],
   "source": [
    "# THIS CODE CELL SHOUL NOT BE CHANGED OR TOUCHED (ONLY RUN)\n",
    "\n",
    "# Provided simple test() function used in main() to print\n",
    "# what each function returns vs. what it's supposed to return.\n",
    "def test(got, expected):\n",
    "  if got == expected:\n",
    "    prefix = ' OK '\n",
    "  else:\n",
    "    prefix = '  X '\n",
    "  print (f'{prefix} got: {got} expected: {expected}')"
   ]
  },
  {
   "cell_type": "code",
   "execution_count": 65,
   "metadata": {},
   "outputs": [],
   "source": [
    "# THIS CODE CELL SHOUL NOT BE CHANGED OR TOUCHED (ONLY RUN)\n",
    "\n",
    "# Provided main() calls the above functions with interesting inputs,\n",
    "# using test() to check if each result is correct or not.\n",
    "def main():\n",
    "    print ('donuts')\n",
    "    # Each line calls donuts, compares its result to the expected for that call.\n",
    "    test(donuts(4), 'Number of donuts: 4')\n",
    "    test(donuts(9), 'Number of donuts: 9')\n",
    "    test(donuts(10), 'Number of donuts: many')\n",
    "    test(donuts(99), 'Number of donuts: many')\n",
    "\n",
    "    print()\n",
    "    print ('both_ends')\n",
    "    test(both_ends('spring'), 'spng')\n",
    "    test(both_ends('Hello'), 'Helo')\n",
    "    test(both_ends('a'), '')\n",
    "    test(both_ends('xyz'), 'xyyz')\n",
    "\n",
    "    print()\n",
    "    print ('fix_start')\n",
    "    test(fix_start('babble'), 'ba**le')\n",
    "    test(fix_start('aardvark'), 'a*rdv*rk')\n",
    "    test(fix_start('google'), 'goo*le')\n",
    "    test(fix_start('donut'), 'donut')\n",
    "\n",
    "    print()\n",
    "    print ('mix_up')\n",
    "    test(mix_up('mix', 'pod'), 'pox mid')\n",
    "    test(mix_up('dog', 'dinner'), 'dig donner')\n",
    "    test(mix_up('gnash', 'sport'), 'spash gnort')\n",
    "    test(mix_up('pezzy', 'firm'), 'fizzy perm')\n"
   ]
  },
  {
   "cell_type": "code",
   "execution_count": 66,
   "metadata": {},
   "outputs": [
    {
     "name": "stdout",
     "output_type": "stream",
     "text": [
      "donuts\n",
      " OK  got: Number of donuts: 4 expected: Number of donuts: 4\n",
      " OK  got: Number of donuts: 9 expected: Number of donuts: 9\n",
      " OK  got: Number of donuts: many expected: Number of donuts: many\n",
      " OK  got: Number of donuts: many expected: Number of donuts: many\n",
      "\n",
      "both_ends\n",
      " OK  got: spng expected: spng\n",
      " OK  got: Helo expected: Helo\n",
      " OK  got:  expected: \n",
      " OK  got: xyyz expected: xyyz\n",
      "\n",
      "fix_start\n",
      " OK  got: ba**le expected: ba**le\n",
      " OK  got: a*rdv*rk expected: a*rdv*rk\n",
      " OK  got: goo*le expected: goo*le\n",
      " OK  got: donut expected: donut\n",
      "\n",
      "mix_up\n",
      "  X  got: ['pix', 'mod'] expected: pox mid\n",
      "  X  got: ['dog', 'dinner'] expected: dig donner\n",
      "  X  got: ['snash', 'gport'] expected: spash gnort\n",
      "  X  got: ['fezzy', 'pirm'] expected: fizzy perm\n"
     ]
    }
   ],
   "source": [
    "# THIS CODE CELL SHOUL NOT BE CHANGED OR TOUCHED (ONLY RUN)\n",
    "\n",
    "main()"
   ]
  },
  {
   "cell_type": "code",
   "execution_count": null,
   "metadata": {},
   "outputs": [],
   "source": []
  }
 ],
 "metadata": {
  "kernelspec": {
   "display_name": ".venv",
   "language": "python",
   "name": "python3"
  },
  "language_info": {
   "codemirror_mode": {
    "name": "ipython",
    "version": 3
   },
   "file_extension": ".py",
   "mimetype": "text/x-python",
   "name": "python",
   "nbconvert_exporter": "python",
   "pygments_lexer": "ipython3",
   "version": "3.13.1"
  }
 },
 "nbformat": 4,
 "nbformat_minor": 2
}
