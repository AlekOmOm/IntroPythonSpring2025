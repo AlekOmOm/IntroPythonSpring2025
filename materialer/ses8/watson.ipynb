{
 "cells": [
  {
   "cell_type": "markdown",
   "metadata": {},
   "source": [
    "## Watson løsninger"
   ]
  },
  {
   "cell_type": "markdown",
   "metadata": {},
   "source": [
    "få fat i data"
   ]
  },
  {
   "cell_type": "code",
   "execution_count": 16,
   "metadata": {},
   "outputs": [],
   "source": [
    "import requests\n",
    "res = requests.get('https://raw.githubusercontent.com/python-elective-kea/IntroPythonSpring2025/refs/heads/main/materialer/ses8/watson_data.py')\n",
    "exec(res.text)\n"
   ]
  },
  {
   "cell_type": "code",
   "execution_count": null,
   "metadata": {},
   "outputs": [
    {
     "data": {
      "text/plain": [
       "108"
      ]
     },
     "execution_count": 20,
     "metadata": {},
     "output_type": "execute_result"
    }
   ],
   "source": [
    "# Hvor mange set kort der i filen\n",
    "len(data)"
   ]
  },
  {
   "cell_type": "code",
   "execution_count": 31,
   "metadata": {},
   "outputs": [
    {
     "data": {
      "text/plain": [
       "88"
      ]
     },
     "execution_count": 31,
     "metadata": {},
     "output_type": "execute_result"
    }
   ],
   "source": [
    "# I hvor man af sættene der er brug for at vende 1 kort?\n",
    "results = []\n",
    "\n",
    "for i in data:\n",
    "    for j in i:\n",
    "        if j[0] in ['A', 'E', 'I', 'O', 'U'] or j[0] in range(1,10,2):\n",
    "            results.append(j)   \n",
    "            break\n",
    "len(results)\n",
    "\n"
   ]
  },
  {
   "cell_type": "code",
   "execution_count": 38,
   "metadata": {},
   "outputs": [
    {
     "data": {
      "text/plain": [
       "(54,\n",
       " ['x',\n",
       "  'x',\n",
       "  'x',\n",
       "  'x',\n",
       "  'x',\n",
       "  'x',\n",
       "  'x',\n",
       "  'x',\n",
       "  'x',\n",
       "  'x',\n",
       "  'x',\n",
       "  'x',\n",
       "  'x',\n",
       "  'x',\n",
       "  'x',\n",
       "  'x',\n",
       "  'x',\n",
       "  'x',\n",
       "  'x',\n",
       "  'x',\n",
       "  'x',\n",
       "  'x',\n",
       "  'x',\n",
       "  'x',\n",
       "  'x',\n",
       "  'x',\n",
       "  'x',\n",
       "  'x',\n",
       "  'x',\n",
       "  'x',\n",
       "  'x',\n",
       "  'x',\n",
       "  'x',\n",
       "  'x',\n",
       "  'x',\n",
       "  'x',\n",
       "  'x',\n",
       "  'x',\n",
       "  'x',\n",
       "  'x',\n",
       "  'x',\n",
       "  'x',\n",
       "  'x',\n",
       "  'x',\n",
       "  'x',\n",
       "  'x',\n",
       "  'x',\n",
       "  'x',\n",
       "  'x',\n",
       "  'x',\n",
       "  'x',\n",
       "  'x',\n",
       "  'x',\n",
       "  'x'])"
      ]
     },
     "execution_count": 38,
     "metadata": {},
     "output_type": "execute_result"
    }
   ],
   "source": [
    "# I hvor man af sættene der er brug for at vende 2 kort?\n",
    "results = []\n",
    "\n",
    "for i in data:\n",
    "    count = 0\n",
    "    for j in i:\n",
    "        if j[0] in ['A', 'E', 'I', 'O', 'U'] or j[0] in range(1,10,2):\n",
    "            count += 1  \n",
    "            if count == 2:\n",
    "                results.append('x')\n",
    "             \n",
    "            \n",
    "len(results), results"
   ]
  },
  {
   "cell_type": "code",
   "execution_count": 39,
   "metadata": {},
   "outputs": [
    {
     "data": {
      "text/plain": [
       "(14, ['x', 'x', 'x', 'x', 'x', 'x', 'x', 'x', 'x', 'x', 'x', 'x', 'x', 'x'])"
      ]
     },
     "execution_count": 39,
     "metadata": {},
     "output_type": "execute_result"
    }
   ],
   "source": [
    "# I hvor man af sættene der er brug for at vende 2 kort?\n",
    "results = []\n",
    "\n",
    "for i in data:\n",
    "    count = 0\n",
    "    for j in i:\n",
    "        if j[0] in ['A', 'E', 'I', 'O', 'U'] or j[0] in range(1,10,2):\n",
    "            count += 1  \n",
    "            if count == 3:\n",
    "                results.append('x')\n",
    "             \n",
    "            \n",
    "len(results), results"
   ]
  },
  {
   "cell_type": "code",
   "execution_count": 42,
   "metadata": {},
   "outputs": [
    {
     "data": {
      "text/plain": [
       "(1, ['x'])"
      ]
     },
     "execution_count": 42,
     "metadata": {},
     "output_type": "execute_result"
    }
   ],
   "source": [
    "# I hvor man af sættene der er brug for at vende 2 kort?\n",
    "results = []\n",
    "\n",
    "for i in data:\n",
    "    count = 0\n",
    "    for j in i:\n",
    "        if j[0] in ['A', 'E', 'I', 'O', 'U'] or j[0] in range(1,10,2):\n",
    "            count += 1  \n",
    "            if count == 4:\n",
    "                results.append('x')\n",
    "             \n",
    "            \n",
    "len(results), results"
   ]
  },
  {
   "cell_type": "code",
   "execution_count": null,
   "metadata": {},
   "outputs": [],
   "source": []
  }
 ],
 "metadata": {
  "kernelspec": {
   "display_name": ".venv",
   "language": "python",
   "name": "python3"
  },
  "language_info": {
   "codemirror_mode": {
    "name": "ipython",
    "version": 3
   },
   "file_extension": ".py",
   "mimetype": "text/x-python",
   "name": "python",
   "nbconvert_exporter": "python",
   "pygments_lexer": "ipython3",
   "version": "3.11.11"
  }
 },
 "nbformat": 4,
 "nbformat_minor": 2
}
