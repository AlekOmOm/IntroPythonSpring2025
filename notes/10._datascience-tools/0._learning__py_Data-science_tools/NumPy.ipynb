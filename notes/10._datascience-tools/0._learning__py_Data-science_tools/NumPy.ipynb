{
 "cells": [
  {
   "cell_type": "markdown",
   "id": "bcd804db-4623-421a-aa60-fe0c97cc31e4",
   "metadata": {},
   "source": [
    "\n",
    "## NumPy\n",
    "- numPy is a powerful library in python for numerical computations, handling multi-dimensional arrays and matrices with efficiency.\n",
    "\n",
    "### core functionalities:\n",
    "- Array\n",
    "- Vectorization\n",
    "- Broadcasting\n",
    "- Universal Functions (ufuncs)\n",
    "- Indexing and Slicing\n",
    "- Reshaping\n",
    "- Aggregation Functions\n",
    "- Linear Algebra Operations"
   ]
  },
  {
   "cell_type": "markdown",
   "id": "d54aa803-001f-450b-8c27-46681b91f7ca",
   "metadata": {},
   "source": [
    "### Array\n",
    "#### definition \n",
    "concise:\n",
    "- a homogeneous, fixed-size container for elements (usually numbers)\n",
    "- enables contiguous memory layout and high-performance computation\n",
    "\n",
    "elaborate:\n",
    "- A NumPy array is a grid of values, all of the same type, indexed by a tuple of non-negative integers.\n",
    "- The number of dimensions is the rank of the array, and the shape of an array is a tuple of integers giving the size of the array along each dimension.\n",
    "\n",
    "#### explanation\n",
    "\n",
    "- NumPy arrays are the core data structure of the NumPy library.\n",
    "- Unlike Python lists, NumPy arrays are homogeneous (all elements must be of the same type) and provide memory-efficient storage and faster operations.\n",
    "- They enable vectorized operations, eliminating the need for explicit loops, which makes code more concise and typically runs much faster."
   ]
  },
  {
   "cell_type": "markdown",
   "id": "1515ea7c-b10a-4efd-a393-839510b86401",
   "metadata": {},
   "source": [
    "#### examples:"
   ]
  },
  {
   "cell_type": "markdown",
   "id": "8ce0f163-b320-464f-8636-859bc6d682bc",
   "metadata": {},
   "source": [
    "##### 1. The Core: NumPy Arrays (ndarray)\n",
    "\n",
    "1.1 Importing\n",
    "\n",
    "1.2 Creating Arrays\n",
    "\n",
    "- 1.2.1 From a Python list\n",
    "   - simple\n",
    "   - list of lists\n",
    "- 1.2.2 Using built-in functions\n",
    "   - array of zeros\n",
    "   - array of ones\n",
    "   - np.arrange (like py range)\n",
    "   - np.linspace"
   ]
  },
  {
   "cell_type": "code",
   "execution_count": 5,
   "id": "df4caacf-eb47-48ee-be88-e996023a4449",
   "metadata": {},
   "outputs": [],
   "source": [
    "# 1.1 Importing\n",
    "\n",
    "import numpy as np"
   ]
  },
  {
   "cell_type": "code",
   "execution_count": 6,
   "id": "5fe63a55-9e21-4d78-95e2-c9c612ee9fa6",
   "metadata": {},
   "outputs": [],
   "source": [
    "# 1.2 Creating Arrays"
   ]
  },
  {
   "cell_type": "code",
   "execution_count": null,
   "id": "831beff4-48ec-4e97-9607-4b06425f9b50",
   "metadata": {},
   "outputs": [],
   "source": [
    "#  1.2.1 From a Python list\n",
    "#   - simple\n",
    "#   - list of lists"
   ]
  },
  {
   "cell_type": "code",
   "execution_count": 7,
   "id": "ba516ba9-802d-4958-a468-88558c515b84",
   "metadata": {},
   "outputs": [
    {
     "name": "stdout",
     "output_type": "stream",
     "text": [
      "Array A: [1 2 3 4 5]\n",
      "Type of np_array_a: <class 'numpy.ndarray'>\n",
      "Data type of elements: int64\n",
      "Array B (2D):\n",
      "[[1 2]\n",
      " [3 4]\n",
      " [5 6]]\n",
      "Shape of Array B: (3, 2)\n"
     ]
    }
   ],
   "source": [
    "# 1) From a Python list\n",
    "list_a = [1, 2, 3, 4, 5] # simple python list\n",
    "np_array_a = np.array(list_a)\n",
    "print(f\"Array A: {np_array_a}\")\n",
    "print(f\"Type of np_array_a: {type(np_array_a)}\") # <class 'numpy.ndarray'>\n",
    "print(f\"Data type of elements: {np_array_a.dtype}\") # e.g., int64 or int32\n",
    "\n",
    "list_b = [[1, 2], [3, 4], [5, 6]] # List of lists\n",
    "np_array_b = np.array(list_b)\n",
    "print(f\"Array B (2D):\\n{np_array_b}\")\n",
    "print(f\"Shape of Array B: {np_array_b.shape}\") # (3, 2) -> 3 rows, 2 columns"
   ]
  },
  {
   "cell_type": "code",
   "execution_count": null,
   "id": "0f5c323e-e548-462a-b365-f28525c50b8a",
   "metadata": {},
   "outputs": [],
   "source": [
    "#  1.2.2 Using built-in functions\n",
    "#   - array of zeros\n",
    "#   - array of ones\n",
    "#   - np.arrange (like py range)\n",
    "#   - np.linspace"
   ]
  },
  {
   "cell_type": "code",
   "execution_count": 8,
   "id": "1ecf9ed4-0d73-4bd4-a9cf-3b9f06ed7dbb",
   "metadata": {},
   "outputs": [
    {
     "name": "stdout",
     "output_type": "stream",
     "text": [
      "Zeros array:\n",
      "[[0. 0. 0. 0.]\n",
      " [0. 0. 0. 0.]]\n",
      "Ones array:\n",
      "[[1. 1. 1.]\n",
      " [1. 1. 1.]\n",
      " [1. 1. 1.]]\n",
      "Range array: [0 2 4 6 8]\n",
      "Linspace array: [0.   0.25 0.5  0.75 1.  ]\n"
     ]
    }
   ],
   "source": [
    "# 2) Using built-in functions\n",
    "zeros_array = np.zeros((2, 4)) # 2x4 array of zeros\n",
    "print(f\"Zeros array:\\n{zeros_array}\")\n",
    "\n",
    "ones_array = np.ones((3, 3)) # 3x3 array of ones\n",
    "print(f\"Ones array:\\n{ones_array}\")\n",
    "\n",
    "range_array = np.arange(0, 10, 2) # Like Python's range, but creates an array [0 2 4 6 8]\n",
    "print(f\"Range array: {range_array}\")\n",
    "\n",
    "linspace_array = np.linspace(0, 1, 5) # 5 evenly spaced numbers between 0 and 1 (inclusive)\n",
    "print(f\"Linspace array: {linspace_array}\")"
   ]
  },
  {
   "cell_type": "markdown",
   "id": "bac2e50f-fa83-457e-b809-c7a3382d98ec",
   "metadata": {},
   "source": [
    "##### 2. Vectorization & Basic Operations\n"
   ]
  },
  {
   "cell_type": "code",
   "execution_count": null,
   "id": "fee5b5f9-25f0-45f3-8926-8078733be6fb",
   "metadata": {},
   "outputs": [],
   "source": []
  }
 ],
 "metadata": {
  "kernelspec": {
   "display_name": "Python 3 (ipykernel)",
   "language": "python",
   "name": "python3"
  },
  "language_info": {
   "codemirror_mode": {
    "name": "ipython",
    "version": 3
   },
   "file_extension": ".py",
   "mimetype": "text/x-python",
   "name": "python",
   "nbconvert_exporter": "python",
   "pygments_lexer": "ipython3",
   "version": "3.13.0"
  }
 },
 "nbformat": 4,
 "nbformat_minor": 5
}
